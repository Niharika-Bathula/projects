{
  "nbformat": 4,
  "nbformat_minor": 0,
  "metadata": {
    "colab": {
      "private_outputs": true,
      "provenance": [],
      "collapsed_sections": [
        "gIfDvo9L0UH2"
      ],
      "cell_execution_strategy": "setup"
    },
    "kernelspec": {
      "name": "python3",
      "display_name": "Python 3"
    },
    "language_info": {
      "name": "python"
    }
  },
  "cells": [
    {
      "cell_type": "markdown",
      "source": [
        "# **Project Name**    -\n",
        "\n"
      ],
      "metadata": {
        "id": "vncDsAP0Gaoa"
      }
    },
    {
      "cell_type": "markdown",
      "source": [
        "##### **Project Type**    - EDA\n",
        "##### **Contribution**    - Individual\n",
        "Name:  Niharika Bathula\n",
        "\n"
      ],
      "metadata": {
        "id": "beRrZCGUAJYm"
      }
    },
    {
      "cell_type": "markdown",
      "source": [
        "# **Project Summary -**"
      ],
      "metadata": {
        "id": "FJNUwmbgGyua"
      }
    },
    {
      "cell_type": "markdown",
      "source": [
        "This Play Store app analysis project provided valuable insights into the dynamics of the mobile app ecosystem. The findings can be used by developers, marketers, and app publishers to make data-driven decisions to improve app performance, user engagement, and overall success.Most of the apps are free so developers should focus on creating free apps to have a huge customer base. If developing paid apps then apps size should not be greater than 40mb. More Apps should be in the category like Events,Beauty,Parenting as they have not been explored much but still quite popular with huge installations. In order to retain the customer base apps should be updated regularly Developers should develop apps such that their content is available for everyone. Bulky apps should be developed in the category like Game, Family. If developing paid apps then its price should not be high and size should be less than 20mb. Apps belonging to Game and Family Category have high negative reviews therefore they should be developed carefully. Like this there can be a lot of conclusions but we have tried to cover the most important ones. These are some of the aspects that the developer should research before proceeding with the app development. By conducting a simple exploratory data analysis (EDA) on the play store dataset, we not only eliminate avoidable risks of failure, but we may also be able to provide better ideas for building the app.Prior to analysis, the dataset underwent rigorous cleansing and preprocessing, encompassing the mitigation of missing values, the eradication of duplicates, and the preservation of data uniformity. Outliers were also tamed to uphold data sanctity.\n",
        "\n",
        "The primary objectives of my analysis were to identify factors that influence app ratings and downloads, explore correlations between app categories and user reviews, and gain insights into pricing strategies among top-rated apps.I had prior knowledge of the mobile app industry and understood the significance of user ratings, reviews, and app category in determining an app's success. This background knowledge guided the formulation of my research questions.\n",
        "I was conscious of ethical considerations regarding user data and ensured that I treated user-generated data responsibly and with respect for privacy. I utilized Python for data analysis, along with libraries like pandas for data manipulation, matplotlib and seaborn for data visualization, and scikit-learn for any machine learning tasks.\n",
        "\n",
        "By having a solid grasp of the dataset and its context, I was well-equipped to carry out a meaningful analysis and extract valuable insights into the dynamics of the Play Store app ecosystem.\"\n",
        "In summation, this project has illuminated the pathways to app success within the Google Play Store, emphasizing the potency of data-driven analysis in the vibrant arena of mobile applications."
      ],
      "metadata": {
        "id": "xnnzp9DuiGmR"
      }
    },
    {
      "cell_type": "markdown",
      "source": [
        "# **GitHub Link -**"
      ],
      "metadata": {
        "id": "w6K7xa23Elo4"
      }
    },
    {
      "cell_type": "markdown",
      "source": [
        "https://github.com/Niharika-Bathula/projects"
      ],
      "metadata": {
        "id": "7g0ZwaWKgarH"
      }
    },
    {
      "cell_type": "markdown",
      "source": [
        "Provide your GitHub Link here."
      ],
      "metadata": {
        "id": "h1o69JH3Eqqn"
      }
    },
    {
      "cell_type": "markdown",
      "source": [
        "# **Problem Statement**\n"
      ],
      "metadata": {
        "id": "yQaldy8SH6Dl"
      }
    },
    {
      "cell_type": "markdown",
      "source": [
        "To find the key factors responsible for play store app engangement through data analysis"
      ],
      "metadata": {
        "id": "DpeJGUA3kjGy"
      }
    },
    {
      "cell_type": "markdown",
      "source": [
        "#### **Define Your Business Objective?**"
      ],
      "metadata": {
        "id": "PH-0ReGfmX4f"
      }
    },
    {
      "cell_type": "markdown",
      "source": [
        "\n",
        "The Play Store apps data has enormous potential to drive app-making businesses to success. Actionable insights can be drawn for developers to work on and capture the Android market. Each app (row) has values for category rating, size, and more Another dataset contains customer reviews of the android apps. To explore and analyse the data to discover key factors responsible for app engagement and success."
      ],
      "metadata": {
        "id": "PhDvGCAqmjP1"
      }
    },
    {
      "cell_type": "markdown",
      "source": [
        "# **General Guidelines** : -  "
      ],
      "metadata": {
        "id": "mDgbUHAGgjLW"
      }
    },
    {
      "cell_type": "markdown",
      "source": [
        "1.   Well-structured, formatted, and commented code is required.\n",
        "2.   Exception Handling, Production Grade Code & Deployment Ready Code will be a plus. Those students will be awarded some additional credits.\n",
        "     \n",
        "     The additional credits will have advantages over other students during Star Student selection.\n",
        "       \n",
        "             [ Note: - Deployment Ready Code is defined as, the whole .ipynb notebook should be executable in one go\n",
        "                       without a single error logged. ]\n",
        "\n",
        "3.   Each and every logic should have proper comments.\n",
        "4. You may add as many number of charts you want. Make Sure for each and every chart the following format should be answered.\n",
        "        \n",
        "\n",
        "```\n",
        "# Chart visualization code\n",
        "```\n",
        "            \n",
        "\n",
        "*   Why did you pick the specific chart?\n",
        "*   What is/are the insight(s) found from the chart?\n",
        "* Will the gained insights help creating a positive business impact?\n",
        "Are there any insights that lead to negative growth? Justify with specific reason.\n",
        "\n",
        "5. You have to create at least 20 logical & meaningful charts having important insights.\n",
        "\n",
        "\n",
        "[ Hints : - Do the Vizualization in  a structured way while following \"UBM\" Rule.\n",
        "\n",
        "U - Univariate Analysis,\n",
        "\n",
        "B - Bivariate Analysis (Numerical - Categorical, Numerical - Numerical, Categorical - Categorical)\n",
        "\n",
        "M - Multivariate Analysis\n",
        " ]\n",
        "\n",
        "\n",
        "\n"
      ],
      "metadata": {
        "id": "ZrxVaUj-hHfC"
      }
    },
    {
      "cell_type": "markdown",
      "source": [
        "# ***Let's Begin !***"
      ],
      "metadata": {
        "id": "O_i_v8NEhb9l"
      }
    },
    {
      "cell_type": "markdown",
      "source": [
        "## ***1. Know Your Data***"
      ],
      "metadata": {
        "id": "HhfV-JJviCcP"
      }
    },
    {
      "cell_type": "markdown",
      "source": [
        "App - It tells us about the name of the application.\n",
        "\n",
        "Category - It tells us about the category to which an application belongs.\n",
        "\n",
        "Rating- It tells us about the ratings given by the users for a specific application.\n",
        "\n",
        "Reviews - It tells us about the total number of users who have given a review for the application.\n",
        "\n",
        "Size- It tells us about the size being occupied the application on the mobile phone.\n",
        "\n",
        "Installs - It tells us about the total number of installs/downloads for an application. Type - It tells us whether the application is free or a paid one.\n",
        "\n",
        "Price- It tells us about the price of the application.\n",
        "\n",
        "Content_Rating- It tells us about the target audience for the application.\n",
        "\n",
        "Genres - It tells us about the various other categories to which an application can belong.\n",
        "\n",
        "Last_Updated - It tells us about the when the application was updated.\n",
        "\n",
        "Current_Ver - It tells us about the current version of the application.\n",
        "\n",
        "Android_Ver - It tells us about the android version which can support the application on its platform"
      ],
      "metadata": {
        "id": "EjXe64xyyySy"
      }
    },
    {
      "cell_type": "markdown",
      "source": [
        "### Import Libraries"
      ],
      "metadata": {
        "id": "Y3lxredqlCYt"
      }
    },
    {
      "cell_type": "code",
      "source": [
        "# Import Libraries\n",
        "import numpy as np               #linear algebra\n",
        "import pandas as pd\n",
        "import matplotlib.pyplot as plt #visualization tool\n",
        "%matplotlib inline\n",
        "import seaborn as sns            #visualization tool\n",
        "import warnings\n",
        "warnings.filterwarnings('ignore')"
      ],
      "metadata": {
        "id": "M8Vqi-pPk-HR"
      },
      "execution_count": null,
      "outputs": []
    },
    {
      "cell_type": "markdown",
      "source": [
        "### Dataset Loading"
      ],
      "metadata": {
        "id": "3RnN4peoiCZX"
      }
    },
    {
      "cell_type": "code",
      "source": [
        "# Load Dataset\n",
        "#Loading the Dataset, So that we can read our dataset further.\n",
        "dataset1= pd.read_csv('/content/Play Store Data.csv')\n",
        "dataset2= pd.read_csv('/content/User Reviews.csv')"
      ],
      "metadata": {
        "id": "4CkvbW_SlZ_R"
      },
      "execution_count": null,
      "outputs": []
    },
    {
      "cell_type": "markdown",
      "source": [
        "### Dataset First View"
      ],
      "metadata": {
        "id": "x71ZqKXriCWQ"
      }
    },
    {
      "cell_type": "code",
      "source": [
        "# Dataset First Look\n",
        "df_1=dataset1.copy()\n",
        "df_2=dataset2.copy()\n",
        "\n",
        "df_1"
      ],
      "metadata": {
        "id": "LWNFOSvLl09H"
      },
      "execution_count": null,
      "outputs": []
    },
    {
      "cell_type": "code",
      "source": [
        "df_2# first look of datset2(users review)"
      ],
      "metadata": {
        "id": "NUbaj5V2z6xW"
      },
      "execution_count": null,
      "outputs": []
    },
    {
      "cell_type": "markdown",
      "source": [
        "### Dataset Rows & Columns count"
      ],
      "metadata": {
        "id": "7hBIi_osiCS2"
      }
    },
    {
      "cell_type": "code",
      "source": [
        "# Dataset Rows & Columns count\n",
        "# Checking Row & Columns in Dataset.\n",
        "print('Row & Columns of Play Store Dataset is:',df_1.shape)\n",
        "print('\\n')\n",
        "print('Row & Columns of User Dataset is:',df_2.shape)"
      ],
      "metadata": {
        "id": "Kllu7SJgmLij"
      },
      "execution_count": null,
      "outputs": []
    },
    {
      "cell_type": "markdown",
      "source": [
        "### Dataset Information"
      ],
      "metadata": {
        "id": "JlHwYmJAmNHm"
      }
    },
    {
      "cell_type": "code",
      "source": [
        "# Dataset Info\n",
        "df_1.head()#first 5rows of dataset1(by default 5rows)"
      ],
      "metadata": {
        "id": "e9hRXRi6meOf"
      },
      "execution_count": null,
      "outputs": []
    },
    {
      "cell_type": "code",
      "source": [
        "df_2.head(6)#first 6 rows of ds2\n"
      ],
      "metadata": {
        "id": "MzloonbW0ZCu"
      },
      "execution_count": null,
      "outputs": []
    },
    {
      "cell_type": "code",
      "source": [
        "df_1.tail()#last 5 rows of ds1"
      ],
      "metadata": {
        "id": "j7FbLWBU14Hv"
      },
      "execution_count": null,
      "outputs": []
    },
    {
      "cell_type": "code",
      "source": [
        "df_2.tail(3)#last 3 rows of ds2"
      ],
      "metadata": {
        "id": "2g7DuOAq15Ib"
      },
      "execution_count": null,
      "outputs": []
    },
    {
      "cell_type": "code",
      "source": [
        "# random 4 rows of the playstore dataset.\n",
        "df_1.sample(4)"
      ],
      "metadata": {
        "id": "9zibRBGN1aOr"
      },
      "execution_count": null,
      "outputs": []
    },
    {
      "cell_type": "markdown",
      "source": [
        "#### Duplicate Values"
      ],
      "metadata": {
        "id": "35m5QtbWiB9F"
      }
    },
    {
      "cell_type": "code",
      "source": [
        "# Dataset Duplicate Value Count\n",
        "# duplicate values in play store dataset.\n",
        "df_1.duplicated()"
      ],
      "metadata": {
        "id": "1sLdpKYkmox0"
      },
      "execution_count": null,
      "outputs": []
    },
    {
      "cell_type": "code",
      "source": [
        "df_2.duplicated()#to find duplicate values , it returns true or false"
      ],
      "metadata": {
        "id": "BsMjfdzJ23qE"
      },
      "execution_count": null,
      "outputs": []
    },
    {
      "cell_type": "markdown",
      "source": [
        "#### Missing Values/Null Values"
      ],
      "metadata": {
        "id": "PoPl-ycgm1ru"
      }
    },
    {
      "cell_type": "code",
      "source": [
        "# Missing Values/Null Values Count\n",
        "# Dataset info for playstore dataset.\n",
        "df_1.info()"
      ],
      "metadata": {
        "id": "GgHWkxvamxVg"
      },
      "execution_count": null,
      "outputs": []
    },
    {
      "cell_type": "code",
      "source": [
        "df_2.info()"
      ],
      "metadata": {
        "id": "9SD-OR5j277f"
      },
      "execution_count": null,
      "outputs": []
    },
    {
      "cell_type": "code",
      "source": [
        "# Finding Null Values and arrange in decending orders\n",
        "\n",
        "null_val = df_1.isnull().sum().sort_values(ascending=False).head().reset_index().rename(columns={'index':'column',0:'count'})\n",
        "null_val"
      ],
      "metadata": {
        "id": "BQn6SJCy3OCE"
      },
      "execution_count": null,
      "outputs": []
    },
    {
      "cell_type": "code",
      "source": [
        "null_val = df_2.isnull().sum().sort_values(ascending=False).head().reset_index().rename(columns={'index':'column',0:'count'})\n",
        "null_val"
      ],
      "metadata": {
        "id": "de7VNd8I3PEj"
      },
      "execution_count": null,
      "outputs": []
    },
    {
      "cell_type": "code",
      "source": [
        "# Removing Null Value Row.\n",
        "df_1.dropna(subset=[\"Type\",\"Content Rating\", \"Current Ver\", \"Android Ver\"], inplace= True)"
      ],
      "metadata": {
        "id": "NIJMx4Xa3SbH"
      },
      "execution_count": null,
      "outputs": []
    },
    {
      "cell_type": "code",
      "source": [
        "df_1.isnull().sum()"
      ],
      "metadata": {
        "id": "3q5wnI3om9sJ"
      },
      "execution_count": null,
      "outputs": []
    },
    {
      "cell_type": "code",
      "source": [
        "df_1.boxplot()"
      ],
      "metadata": {
        "id": "jMKWqLnv3u_k"
      },
      "execution_count": null,
      "outputs": []
    },
    {
      "cell_type": "markdown",
      "source": [
        "From Box plot we can observe that 4.3 median of Rating Majority Consumer gave 4.3 Rating"
      ],
      "metadata": {
        "id": "kCVYbq_s4YXj"
      }
    },
    {
      "cell_type": "code",
      "source": [
        "#Fill Null Value With Median of Rating Column.\n",
        "medn_rating=df_1['Rating'].median()\n",
        "df_1['Rating']=df_1['Rating'].fillna(df_1['Rating'].transform(lambda x:medn_rating))\n",
        "df_1.isnull().sum()"
      ],
      "metadata": {
        "id": "CWR6E2tP3yxf"
      },
      "execution_count": null,
      "outputs": []
    },
    {
      "cell_type": "code",
      "source": [
        "# Null Value in User Review\n",
        "df_2.isnull().sum()"
      ],
      "metadata": {
        "id": "30Sep3OU33LT"
      },
      "execution_count": null,
      "outputs": []
    },
    {
      "cell_type": "code",
      "source": [
        "df_2=df_2.dropna()"
      ],
      "metadata": {
        "id": "wnAz1Q_c34OA"
      },
      "execution_count": null,
      "outputs": []
    },
    {
      "cell_type": "code",
      "source": [
        "# Droping duplicates value\n",
        "df_1= df_1.drop_duplicates()"
      ],
      "metadata": {
        "id": "-jKGWMT4345_"
      },
      "execution_count": null,
      "outputs": []
    },
    {
      "cell_type": "code",
      "source": [
        "# Checking Duplicates Value After Droping.\n",
        "df_1.duplicated().sum()"
      ],
      "metadata": {
        "id": "YxJX1vy335bU"
      },
      "execution_count": null,
      "outputs": []
    },
    {
      "cell_type": "code",
      "source": [
        "df_2.duplicated().sum()"
      ],
      "metadata": {
        "id": "_mRWm1E53_a2"
      },
      "execution_count": null,
      "outputs": []
    },
    {
      "cell_type": "code",
      "source": [
        "df_2=df_2.drop_duplicates()#all duplicates are removed"
      ],
      "metadata": {
        "id": "e-Lq9_eb3_8r"
      },
      "execution_count": null,
      "outputs": []
    },
    {
      "cell_type": "code",
      "source": [
        "# Checking row & Columns of Play store Dataset after removing dataset\n",
        "print('Row & Columns of Play Store Dataset is:',df_1.shape)\n",
        "print('Row & Columns of User Dataset is:',df_2.shape)"
      ],
      "metadata": {
        "id": "D14sPg7-4R5B"
      },
      "execution_count": null,
      "outputs": []
    },
    {
      "cell_type": "markdown",
      "source": [
        "### What did you know about your dataset?"
      ],
      "metadata": {
        "id": "H0kj-8xxnORC"
      }
    },
    {
      "cell_type": "markdown",
      "source": [
        "\"In this Play Store app analysis project, I had a comprehensive understanding of the dataset that I was working with. Dataset contains information about various mobile applications available on the platform.\n",
        "\n",
        "This wide temporal scope allowed me to explore trends and changes in the app ecosystem over the years.\n",
        "\n",
        "Data Variables: The dataset included several important variables, such as:\n",
        "\n",
        "App Name,\n",
        "Category (e.g., Games, Business, Health),\n",
        "Rating (user ratings out of 5),\n",
        "Reviews (number of user reviews),\n",
        "Installs (number of app downloads),\n",
        "Price (in dollars),\n",
        "Content Rating (e.g., Everyone, Teen, Mature),\n",
        "Genre (a more granular categorization of apps),\n",
        "Last Updated (date of the last app update).\n",
        "\n",
        "The primary objectives of my analysis were to identify factors that influence app ratings and downloads, explore correlations between app categories and user reviews, and gain insights into pricing strategies among top-rated apps.\n",
        "\n",
        "I had prior knowledge of the mobile app industry and understood the significance of user ratings, reviews, and app category in determining an app's success. This background knowledge guided the formulation of my research questions."
      ],
      "metadata": {
        "id": "gfoNAAC-nUe_"
      }
    },
    {
      "cell_type": "markdown",
      "source": [
        "## ***2. Understanding Your Variables***"
      ],
      "metadata": {
        "id": "nA9Y7ga8ng1Z"
      }
    },
    {
      "cell_type": "markdown",
      "source": [
        "### Variables Description"
      ],
      "metadata": {
        "id": "PBTbrJXOngz2"
      }
    },
    {
      "cell_type": "markdown",
      "source": [
        "App Name: The name of the mobile application listed on the Play Store.\n",
        "\n",
        "Category: The category or genre to which the app belongs (e.g., Games, Business, Health & Fitness).\n",
        "\n",
        "Rating: The user rating of the app, typically on a scale from 1 to 5 stars.\n",
        "\n",
        "Reviews: The number of user reviews/ratings received by the app.\n",
        "\n",
        "Installs: The estimated number of times the app has been downloaded and installed by users.\n",
        "\n",
        "Price: The price of the app, if it is not free. It is usually in the currency of the country's Play Store.\n",
        "\n",
        "Content Rating: The content rating assigned to the app (e.g., Everyone, Teen, Mature).\n",
        "\n",
        "Genre: A more granular categorization of the app beyond the main category (e.g., Action, Puzzle for a game).\n",
        "\n",
        "Last Updated: The date when the app was last updated on the Play Store.\n",
        "\n",
        "Size: The size of the app, typically in terms of megabytes (MB) or gigabytes (GB).\n",
        "\n",
        "Current Version: The version number of the app that is currently available.\n",
        "\n",
        "Android Version: The minimum Android version required to run the app."
      ],
      "metadata": {
        "id": "aJV4KIxSnxay"
      }
    },
    {
      "cell_type": "markdown",
      "source": [
        "### Check Unique Values for each variable."
      ],
      "metadata": {
        "id": "u3PMJOP6ngxN"
      }
    },
    {
      "cell_type": "code",
      "source": [
        "df_1['Installs'].unique()#unique values for Installs column"
      ],
      "metadata": {
        "id": "tNxx93kqERmM"
      },
      "execution_count": null,
      "outputs": []
    },
    {
      "cell_type": "code",
      "source": [
        "df_1['Type'].unique()#unique values for type column"
      ],
      "metadata": {
        "id": "zU0giKVDERcB"
      },
      "execution_count": null,
      "outputs": []
    },
    {
      "cell_type": "code",
      "source": [
        "df_1['Price'].unique()#unique values for price column"
      ],
      "metadata": {
        "id": "0BNuvGk3ERU-"
      },
      "execution_count": null,
      "outputs": []
    },
    {
      "cell_type": "code",
      "source": [
        "df_1['Size'].unique()#unique values for size column"
      ],
      "metadata": {
        "id": "Zx-YiXz-ERN-"
      },
      "execution_count": null,
      "outputs": []
    },
    {
      "cell_type": "code",
      "source": [
        "df_1['Category'].unique()#unique values for category column"
      ],
      "metadata": {
        "id": "QtXO7P0_ERIH"
      },
      "execution_count": null,
      "outputs": []
    },
    {
      "cell_type": "code",
      "source": [
        "\n",
        "# we are checking here some wrong entries like #,@,%,?,+,& in string or in integer type coloumn that we are unable to find during null value detection.\n",
        "for num,col in enumerate(df_1.columns,1):\n",
        "    print('\\n')\n",
        "    print(num,')\\n','{} : {}'.format(col,df_1[col].unique().tolist()))\n"
      ],
      "metadata": {
        "id": "zms12Yq5n-jE"
      },
      "execution_count": null,
      "outputs": []
    },
    {
      "cell_type": "code",
      "source": [
        "# replacing $ symbol with space and convering into float data type\n",
        "df_1['Price']=df_1['Price'].apply((lambda x:str(x).replace('$','') if'$'in str(x) else str(x)))\n",
        "df_1['Price']=df_1['Price'].apply((lambda x:float(x)))\n",
        "df_1['Price'].unique()"
      ],
      "metadata": {
        "id": "JQAFW0ilFFen"
      },
      "execution_count": null,
      "outputs": []
    },
    {
      "cell_type": "markdown",
      "source": [
        "## 3. ***Data Wrangling***"
      ],
      "metadata": {
        "id": "dauF4eBmngu3"
      }
    },
    {
      "cell_type": "markdown",
      "source": [
        "### Data Wrangling Code"
      ],
      "metadata": {
        "id": "bKJF3rekwFvQ"
      }
    },
    {
      "cell_type": "markdown",
      "source": [
        "What all manipulations have you done and insights you found?"
      ],
      "metadata": {
        "id": "h3Iml7XzFk98"
      }
    },
    {
      "cell_type": "code",
      "source": [
        "#replacing all + and , with space and converting into float data type\n",
        "df_1['Installs']=df_1['Installs'].apply(lambda x:str(x).replace('+','')if '+' in str(x) else str(x))\n",
        "df_1['Installs']=df_1['Installs'].apply(lambda x:str(x).replace(',','')if ','in str(x)else str(x))\n",
        "df_1['Installs']=df_1['Installs'].apply(lambda x:float(x))"
      ],
      "metadata": {
        "id": "wk-9a2fpoLcV"
      },
      "execution_count": null,
      "outputs": []
    },
    {
      "cell_type": "code",
      "source": [
        "df_1['Installs'].unique()"
      ],
      "metadata": {
        "id": "jV0JQLvtErS5"
      },
      "execution_count": null,
      "outputs": []
    },
    {
      "cell_type": "code",
      "source": [
        "df_1['Last Updated'].value_counts().sort_values(ascending=False)"
      ],
      "metadata": {
        "id": "US_n9tAFEvYY"
      },
      "execution_count": null,
      "outputs": []
    },
    {
      "cell_type": "code",
      "source": [
        "df_1['Last Updated'].value_counts().sort_values(ascending=False)"
      ],
      "metadata": {
        "id": "XyF_4vr0FrHH"
      },
      "execution_count": null,
      "outputs": []
    },
    {
      "cell_type": "code",
      "source": [
        "df_1['Android Ver'].value_counts().sort_values(ascending=False)"
      ],
      "metadata": {
        "id": "gWZX79PmFq2e"
      },
      "execution_count": null,
      "outputs": []
    },
    {
      "cell_type": "code",
      "source": [
        "df_1['Android Ver'] = df_1['Android Ver'].str.replace(' and up', '')"
      ],
      "metadata": {
        "id": "26O8EeY1FvZF"
      },
      "execution_count": null,
      "outputs": []
    },
    {
      "cell_type": "code",
      "source": [
        "df_1['Android Ver']=df_1['Android Ver'].replace('Varies with device','4.1')"
      ],
      "metadata": {
        "id": "MHeZy_k9FzL_"
      },
      "execution_count": null,
      "outputs": []
    },
    {
      "cell_type": "code",
      "source": [
        "df_1['Android Ver'].unique()"
      ],
      "metadata": {
        "id": "Oi8_jqxtFzBc"
      },
      "execution_count": null,
      "outputs": []
    },
    {
      "cell_type": "code",
      "source": [
        "df_1['Current Ver'].value_counts().sort_values(ascending=False)"
      ],
      "metadata": {
        "id": "dKMdmMkxFy1v"
      },
      "execution_count": null,
      "outputs": []
    },
    {
      "cell_type": "code",
      "source": [
        "df_1['Current Ver']=df_1['Current Ver'].replace('Varies with device',1.0)"
      ],
      "metadata": {
        "id": "rlZNcc8CFynK"
      },
      "execution_count": null,
      "outputs": []
    },
    {
      "cell_type": "code",
      "source": [
        "df_1['Last Updated'].unique()"
      ],
      "metadata": {
        "id": "YIPQSigGF7wA"
      },
      "execution_count": null,
      "outputs": []
    },
    {
      "cell_type": "markdown",
      "source": [
        "## ***4. Data Vizualization, Storytelling & Experimenting with charts : Understand the relationships between variables***"
      ],
      "metadata": {
        "id": "GF8Ens_Soomf"
      }
    },
    {
      "cell_type": "markdown",
      "source": [
        "Q1.Number of Installation in paid and Free apps"
      ],
      "metadata": {
        "id": "Ynr_DJLMH2VB"
      }
    },
    {
      "cell_type": "code",
      "source": [
        "# Total number of apps.\n",
        "T_Apps_count=df_1['App'].count()\n",
        "T_Apps_count"
      ],
      "metadata": {
        "id": "SgXAF1KHH18b"
      },
      "execution_count": null,
      "outputs": []
    },
    {
      "cell_type": "code",
      "source": [
        "# Number of free and Paid apps\n",
        "N_apps_Count=df_1.groupby('Type')['App'].count()\n",
        "N_apps_Count"
      ],
      "metadata": {
        "id": "U2go92W3IDkO"
      },
      "execution_count": null,
      "outputs": []
    },
    {
      "cell_type": "code",
      "source": [
        "#Total number of Installation in paid & Free apps\n",
        "T_num_apps=df_1.groupby('Type')['Installs'].sum().reset_index()\n",
        "T_num_apps"
      ],
      "metadata": {
        "id": "_6v15pjCIEVX"
      },
      "execution_count": null,
      "outputs": []
    },
    {
      "cell_type": "code",
      "source": [
        "#convert exponenials to integer number\n",
        "T_num_apps['Installs'] =T_num_apps['Installs'].astype('int64')\n",
        "T_num_apps"
      ],
      "metadata": {
        "id": "Dtfpb8IRIJ2I"
      },
      "execution_count": null,
      "outputs": []
    },
    {
      "cell_type": "markdown",
      "source": [
        "#### Chart - 1\n",
        "\n",
        "Number of installations of free and paid apps"
      ],
      "metadata": {
        "id": "0wOQAZs5pc--"
      }
    },
    {
      "cell_type": "code",
      "source": [
        "# Chart - 1 visualization code\n",
        "# Visulization\n",
        "\n",
        "fig=plt.figure(figsize=(14,4))\n",
        "plt.subplot(1, 2, 1)\n",
        "\n",
        "# percentage of free and Paid apps\n",
        "N_apps_Count.plot(kind='pie', colors=['hotpink', 'goldenrod'], autopct='%1.1f%%',startangle =180, textprops={'fontsize': 14},explode = (0, 0.2))\n",
        "plt.title('Total Percentage of Free and Paid Apps',fontsize=10,fontweight=\"bold\")\n",
        "plt.ylabel('')\n",
        "plt.legend()\n",
        "\n",
        "#Total number of Installation in paid & Free apps\n",
        "plt.subplot(1, 2, 2)\n",
        "sns.barplot(x='Type',y='Installs', data=T_num_apps, palette=\"Set2\")\n",
        "plt.title('Total number of apps',fontsize=10,fontweight=\"bold\")\n",
        "plt.ylabel('Count')\n",
        "\n",
        "\n",
        "plt.show()"
      ],
      "metadata": {
        "id": "7v_ESjsspbW7"
      },
      "execution_count": null,
      "outputs": []
    },
    {
      "cell_type": "markdown",
      "source": [
        "##### 1. Why did you pick the specific chart?"
      ],
      "metadata": {
        "id": "K5QZ13OEpz2H"
      }
    },
    {
      "cell_type": "markdown",
      "source": [
        " To know the Number of Installation in paid and Free apps"
      ],
      "metadata": {
        "id": "XESiWehPqBRc"
      }
    },
    {
      "cell_type": "markdown",
      "source": [
        "##### 2. What is/are the insight(s) found from the chart?"
      ],
      "metadata": {
        "id": "lQ7QKXXCp7Bj"
      }
    },
    {
      "cell_type": "markdown",
      "source": [
        "**Observation**\n",
        "\n",
        "*   Total number of apps are 10346\n",
        "*   Free app count :-9584, Paid app Count:-762\n",
        "\n",
        "*   Out of Total apps in google play according to dataset 92.6% Apss are free &7.4% Apps are Paid\n",
        "*   Total number of Installation in Free apps is more compare to Paid Apps In bar graph it is not visible because number of Paid app is less.\n",
        "\n"
      ],
      "metadata": {
        "id": "C_j1G7yiqdRP"
      }
    },
    {
      "cell_type": "markdown",
      "source": [
        "##### 3. Will the gained insights help creating a positive business impact?\n",
        "Are there any insights that lead to negative growth? Justify with specific reason."
      ],
      "metadata": {
        "id": "448CDAPjqfQr"
      }
    },
    {
      "cell_type": "markdown",
      "source": [
        "Yes, the insights help in creating a positive business impact.\n",
        "\n",
        "From the chart we can analyse that the count of free apps is more compared to paid app count.\n",
        "\n",
        " I think there is no such insight here which leads to negative growth as we can see here that count of free app is more which causes positive impact to the business."
      ],
      "metadata": {
        "id": "3cspy4FjqxJW"
      }
    },
    {
      "cell_type": "markdown",
      "source": [
        "Q2.Total Installation According to Content Rating Wise  & Total Apps according to Content Rating Count"
      ],
      "metadata": {
        "id": "4MULukaFJ6Ie"
      }
    },
    {
      "cell_type": "code",
      "source": [
        "# Total Apps according to Content Rating Count.\n",
        "content_rating_counts = df_1['Content Rating'].value_counts()\n",
        "content_rating_counts\n"
      ],
      "metadata": {
        "id": "ppSdKoDeJ5dP"
      },
      "execution_count": null,
      "outputs": []
    },
    {
      "cell_type": "code",
      "source": [
        "#Total Installation According to Content Rating Wise.\n",
        "\n",
        "content_apps_intallations=df_1.groupby('Content Rating')['Installs'].sum().astype('int64')\n",
        "content_apps_intallations.sort_values(ascending=False)"
      ],
      "metadata": {
        "id": "-1a_G-ifJ4nU"
      },
      "execution_count": null,
      "outputs": []
    },
    {
      "cell_type": "markdown",
      "source": [
        "#### Chart - 2\n",
        "\n",
        "Total Installation According to Content Rating Wise  & Total Apps according to Content Rating Count"
      ],
      "metadata": {
        "id": "KSlN3yHqYklG"
      }
    },
    {
      "cell_type": "code",
      "source": [
        "# Chart - 2 visualization code\n",
        "# Visulization\n",
        "\n",
        "fig=plt.figure(figsize=(20,4))\n",
        "plt.subplot(1, 2, 1)\n",
        "\n",
        "# Total Apps according to Content Rating Count\n",
        "plt.barh(content_rating_counts.index, content_rating_counts.values, color='skyblue')\n",
        "plt.title(\"Content Ratings Distribution\")\n",
        "plt.xlabel(\"Number of Apps\")\n",
        "plt.ylabel(\"Content Rating\")\n",
        "\n",
        "\n",
        "#Total Installation According to Content Rating Wise\n",
        "plt.subplot(1,2,2)\n",
        "plt.barh(content_apps_intallations.index, content_apps_intallations.values, color='skyblue')\n",
        "plt.title(\"Number of installation acc. to content\")\n",
        "plt.xlabel(\"Number of Apps\")\n",
        "plt.ylabel(\"Installation\")\n",
        "plt.show()\n"
      ],
      "metadata": {
        "id": "R4YgtaqtYklH"
      },
      "execution_count": null,
      "outputs": []
    },
    {
      "cell_type": "markdown",
      "source": [
        "##### 1. Why did you pick the specific chart?"
      ],
      "metadata": {
        "id": "t6dVpIINYklI"
      }
    },
    {
      "cell_type": "markdown",
      "source": [
        " To observe the total Installations According to Content Rating Wise  & Total Apps according to Content Rating Count"
      ],
      "metadata": {
        "id": "5aaW0BYyYklI"
      }
    },
    {
      "cell_type": "markdown",
      "source": [
        "##### 2. What is/are the insight(s) found from the chart?"
      ],
      "metadata": {
        "id": "ijmpgYnKYklI"
      }
    },
    {
      "cell_type": "markdown",
      "source": [
        "Observation\n",
        "\n",
        "Content Rating for everyone apps count is more.\n",
        "Everyone 10+ apps is less compare to mature17+ but installation wise everyone10+ apps install more than mature 17+ content rating"
      ],
      "metadata": {
        "id": "PSx9atu2YklI"
      }
    },
    {
      "cell_type": "markdown",
      "source": [
        "##### 3. Will the gained insights help creating a positive business impact?\n",
        "Are there any insights that lead to negative growth? Justify with specific reason."
      ],
      "metadata": {
        "id": "-JiQyfWJYklI"
      }
    },
    {
      "cell_type": "markdown",
      "source": [
        "Yes, the insights help in creating a positive business impact.\n",
        "\n",
        "From the chart we can analyse that the content rating for everyone , I think there is no such insight here which leads to negative growth as we can see here that the content rating distribution for everyone is more which lads to positive impact."
      ],
      "metadata": {
        "id": "BcBbebzrYklV"
      }
    },
    {
      "cell_type": "markdown",
      "source": [
        "#### Chart - 3"
      ],
      "metadata": {
        "id": "EM7whBJCYoAo"
      }
    },
    {
      "cell_type": "markdown",
      "source": [
        "Q3. Top apps Category count & top Category apps installs"
      ],
      "metadata": {
        "id": "O0_KnFqmSPWd"
      }
    },
    {
      "cell_type": "code",
      "source": [
        "# Chart - 3 visualization code\n",
        "#Top apps Category count\n",
        "top10_catg= df_1['Category'].value_counts().sort_values(ascending=False).head(10)\n",
        "top10_catg"
      ],
      "metadata": {
        "id": "t6GMdE67YoAp"
      },
      "execution_count": null,
      "outputs": []
    },
    {
      "cell_type": "code",
      "source": [
        "# Top Category apps installs\n",
        "catg_apps_ins=df_1.groupby('Category')['Installs'].sum().sort_values(ascending=False).astype('int64').head(10)\n",
        "catg_apps_ins"
      ],
      "metadata": {
        "id": "VEAkEy7GSWJZ"
      },
      "execution_count": null,
      "outputs": []
    },
    {
      "cell_type": "code",
      "source": [
        "# Visulization\n",
        "\n",
        "fig=plt.figure(figsize=(15,4))\n",
        "plt.subplot(1, 2, 1)\n",
        "# Top Category apps count\n",
        "\n",
        "top10_catg.plot(kind='pie', startangle=280, pctdistance=0.85,explode = (0.0, 0.0,0.0,0.0,0.0,0.0,0.0,0.0,0.0,0.0),autopct='%1.1f%%')\n",
        "plt.title(' Top Installation Category wise',fontsize=10,fontweight='bold')\n",
        "plt.ylabel('')\n",
        "\n",
        "centre_circle = plt.Circle((0,0),0.70,fc='white')\n",
        "fig = plt.gcf()# for adding the circle\n",
        "fig.gca().add_artist(centre_circle)\n",
        "fig.patch.set_facecolor('#95a3a6')\n",
        "\n",
        "\n",
        "plt.subplot(1, 2, 2)\n",
        "# Top Category apps installs\n",
        "catg_apps_ins.plot(kind='pie', startangle=160, pctdistance=0.85,explode = (0.0, 0.1,0.2,0.1,0.1,0.1,0.1,0.2,0.1,0.3),autopct='%1.1f%%')\n",
        "plt.title(' Top Installation Category wise',fontsize=10,fontweight='bold')\n",
        "plt.ylabel('')\n",
        "\n",
        "centre_circle = plt.Circle((0,0),0.70,fc='white')\n",
        "fig = plt.gcf()\n",
        "fig.gca().add_artist(centre_circle)\n",
        "fig.patch.set_facecolor('#95a3a6')\n",
        "\n",
        "plt.show()"
      ],
      "metadata": {
        "id": "MGSps8pySV8j"
      },
      "execution_count": null,
      "outputs": []
    },
    {
      "cell_type": "markdown",
      "source": [
        "##### 1. Why did you pick the specific chart?"
      ],
      "metadata": {
        "id": "fge-S5ZAYoAp"
      }
    },
    {
      "cell_type": "markdown",
      "source": [
        " To find the top apps Category count & top Category apps installs"
      ],
      "metadata": {
        "id": "5dBItgRVYoAp"
      }
    },
    {
      "cell_type": "markdown",
      "source": [
        "##### 2. What is/are the insight(s) found from the chart?"
      ],
      "metadata": {
        "id": "85gYPyotYoAp"
      }
    },
    {
      "cell_type": "markdown",
      "source": [
        "\n",
        "1)Number of apps more in Family Category & game is second highest.\n",
        "\n",
        "2)Game installation app is 1st and Communication apps installation is second, Family apps installation is 6th.italicized text"
      ],
      "metadata": {
        "id": "4jstXR6OYoAp"
      }
    },
    {
      "cell_type": "markdown",
      "source": [
        "##### 3. Will the gained insights help creating a positive business impact?\n",
        "Are there any insights that lead to negative growth? Justify with specific reason."
      ],
      "metadata": {
        "id": "RoGjAbkUYoAp"
      }
    },
    {
      "cell_type": "markdown",
      "source": [
        "yes the gained insights help in creating positive business impact because from the chart we could see that the family category has highest installation count and there is no negative growth"
      ],
      "metadata": {
        "id": "zfJ8IqMcYoAp"
      }
    },
    {
      "cell_type": "markdown",
      "source": [
        "#### Chart - 4"
      ],
      "metadata": {
        "id": "4Of9eVA-YrdM"
      }
    },
    {
      "cell_type": "markdown",
      "source": [
        "Top App install & Category wise top apps"
      ],
      "metadata": {
        "id": "vFtNP7GRUtP8"
      }
    },
    {
      "cell_type": "code",
      "source": [
        "# Chart - 4 visualization code\n",
        "#Top Apps Install\n",
        "Top_app=df_1.groupby('App')['Installs'].sum().sort_values(ascending=False).head(10).astype('int64')\n",
        "Top_app\n"
      ],
      "metadata": {
        "id": "irlUoxc8YrdO"
      },
      "execution_count": null,
      "outputs": []
    },
    {
      "cell_type": "code",
      "source": [
        "# Top Apps category Wise\n",
        "\n",
        "top_catagery_apps=df_1.groupby(['Category','App'])['Installs'].sum().sort_values(ascending=False).head(10).astype('int64')\n",
        "top_catagery_apps"
      ],
      "metadata": {
        "id": "m3WJkt8YUJst"
      },
      "execution_count": null,
      "outputs": []
    },
    {
      "cell_type": "code",
      "source": [
        "#Visulization\n",
        "\n",
        "fig=plt.figure(figsize=(18,4))\n",
        "plt.subplot(1, 2, 1)\n",
        "\n",
        "#Top Apps Install\n",
        "Top_app.plot(kind='pie', startangle=280, pctdistance=0.85,autopct='%1.1f%%')\n",
        "plt.title('Top apps Install',fontsize=15,fontweight='bold')\n",
        "plt.ylabel('')\n",
        "\n",
        "centre_circle = plt.Circle((0,0),0.70,fc='white')\n",
        "fig = plt.gcf()\n",
        "fig.gca().add_artist(centre_circle)\n",
        "fig.patch.set_facecolor('#95a3a6')\n",
        "\n",
        "#Top Apps category Wise\n",
        "plt.subplot(1, 2, 2)\n",
        "top_catagery_apps.plot(kind='pie', startangle=280, pctdistance=0.85,autopct='%1.1f%%')\n",
        "plt.title('Top Category apps Install',fontsize=15,fontweight='bold')\n",
        "plt.ylabel('')\n",
        "\n",
        "centre_circle = plt.Circle((0,0),0.70,fc='white')\n",
        "fig = plt.gcf()\n",
        "fig.gca().add_artist(centre_circle)\n",
        "fig.patch.set_facecolor('#95a3a6')\n",
        "\n",
        "plt.show()\n"
      ],
      "metadata": {
        "id": "L5fFneauUJfV"
      },
      "execution_count": null,
      "outputs": []
    },
    {
      "cell_type": "markdown",
      "source": [
        "##### 1. Why did you pick the specific chart?"
      ],
      "metadata": {
        "id": "iky9q4vBYrdO"
      }
    },
    {
      "cell_type": "markdown",
      "source": [
        " To identify the Top App install & Category wise top apps"
      ],
      "metadata": {
        "id": "aJRCwT6DYrdO"
      }
    },
    {
      "cell_type": "markdown",
      "source": [
        "##### 2. What is/are the insight(s) found from the chart?"
      ],
      "metadata": {
        "id": "F6T5p64dYrdO"
      }
    },
    {
      "cell_type": "markdown",
      "source": [
        "Observation\n",
        "\n",
        "In Top 10 Installation 3 games apps are Subway Surfer, Candycrush Saga, Temple Run\n",
        "\n",
        "In Top 10 Installation Category apps 2 Gaming Apps\n",
        "\n",
        "Games apps intallation is highest in Play store"
      ],
      "metadata": {
        "id": "Xx8WAJvtYrdO"
      }
    },
    {
      "cell_type": "markdown",
      "source": [
        "##### 3. Will the gained insights help creating a positive business impact?\n",
        "Are there any insights that lead to negative growth? Justify with specific reason."
      ],
      "metadata": {
        "id": "y-Ehk30pYrdP"
      }
    },
    {
      "cell_type": "markdown",
      "source": [
        "Yes,the gained insights help in creating positive business impact because from the chart we could see that the in Top 10 Installation 3 games apps are Subway Surfer, Candycrush Saga, Temple Run and in Top 10 Installation Category apps 2 Gaming Apps.Games apps intallation is highest in Play store which dont lead to negative impact."
      ],
      "metadata": {
        "id": "jLNxxz7MYrdP"
      }
    },
    {
      "cell_type": "markdown",
      "source": [
        "#### Chart - 5"
      ],
      "metadata": {
        "id": "bamQiAODYuh1"
      }
    },
    {
      "cell_type": "markdown",
      "source": [
        "Q5. Top 20 rating count, Top20 Rated Category, Top 10 Rated Category Installation"
      ],
      "metadata": {
        "id": "X3dy2c3mV3KU"
      }
    },
    {
      "cell_type": "code",
      "source": [
        "# Top Ratings Apps\n",
        "T_Rating=df_1['Rating'].value_counts().sort_values(ascending=False).head(20).reset_index()\n",
        "T_Rating"
      ],
      "metadata": {
        "id": "TIJwrbroYuh3"
      },
      "execution_count": null,
      "outputs": []
    },
    {
      "cell_type": "code",
      "source": [
        "# Top Rated Category\n",
        "\n",
        "t_rating_category=df_1.groupby('Category')['Rating'].value_counts().sort_values(ascending=False).head(20)\n",
        "t_rating_category"
      ],
      "metadata": {
        "id": "f3q8D5EIV9bn"
      },
      "execution_count": null,
      "outputs": []
    },
    {
      "cell_type": "code",
      "source": [
        "# Top Rated Catagory Apps Installations.\n",
        "top_Rating_apps=df_1.groupby(['Category','Rating'])['Installs'].sum().sort_values(ascending=False).astype('int64').reset_index()\n",
        "top_Rating_apps"
      ],
      "metadata": {
        "id": "iBx3f2maV9OV"
      },
      "execution_count": null,
      "outputs": []
    },
    {
      "cell_type": "code",
      "source": [
        "# Visulization\n",
        "\n",
        "plt.figure(figsize=(10,4))\n",
        "sns.barplot(x='index',y='Rating',data=T_Rating)\n",
        "plt.title(\"Content Ratings Distribution\")\n",
        "plt.xlabel('rating')\n",
        "plt.ylabel('no. of apps')\n",
        "plt.show()\n",
        "\n"
      ],
      "metadata": {
        "id": "Af6jPsLsWE-9"
      },
      "execution_count": null,
      "outputs": []
    },
    {
      "cell_type": "markdown",
      "source": [
        "##### 1. Why did you pick the specific chart?"
      ],
      "metadata": {
        "id": "QHF8YVU7Yuh3"
      }
    },
    {
      "cell_type": "markdown",
      "source": [
        "To identify the top 20 rating count"
      ],
      "metadata": {
        "id": "dcxuIMRPYuh3"
      }
    },
    {
      "cell_type": "markdown",
      "source": [
        "##### 2. What is/are the insight(s) found from the chart?"
      ],
      "metadata": {
        "id": "GwzvFGzlYuh3"
      }
    },
    {
      "cell_type": "markdown",
      "source": [
        "\n",
        "**Observation**\n",
        "\n",
        "\n",
        "1.   Highest App rating is 5 and lowest in top 20 is 3.0\n",
        "2.   Major apps got 4.3 Rating"
      ],
      "metadata": {
        "id": "uyqkiB8YYuh3"
      }
    },
    {
      "cell_type": "markdown",
      "source": [
        "##### 3. Will the gained insights help creating a positive business impact?\n",
        "Are there any insights that lead to negative growth? Justify with specific reason."
      ],
      "metadata": {
        "id": "qYpmQ266Yuh3"
      }
    },
    {
      "cell_type": "markdown",
      "source": [
        "Yes, the gained insights help in creating a positive business impact\n",
        "\n",
        "If most of the apps have less rating that lead to negative growth because people download apps based on the ratings."
      ],
      "metadata": {
        "id": "iR_Bfb6mW7OM"
      }
    },
    {
      "cell_type": "markdown",
      "source": [
        "#### Chart - 6"
      ],
      "metadata": {
        "id": "OH-pJp9IphqM"
      }
    },
    {
      "cell_type": "code",
      "source": [
        "# Chart - 6 visualization code\n",
        "plt.figure(figsize=(15,4))\n",
        "sns.boxplot(data=top_Rating_apps, x='Category', y='Rating')\n",
        "plt.title(\"Rating Distribution by Category\")\n",
        "plt.xticks(rotation=90)\n",
        "plt.ylabel(\"Rating\")\n",
        "plt.show()"
      ],
      "metadata": {
        "id": "kuRf4wtuphqN"
      },
      "execution_count": null,
      "outputs": []
    },
    {
      "cell_type": "markdown",
      "source": [
        "##### 1. Why did you pick the specific chart?"
      ],
      "metadata": {
        "id": "bbFf2-_FphqN"
      }
    },
    {
      "cell_type": "markdown",
      "source": [
        " To  analyse Category vs Rating"
      ],
      "metadata": {
        "id": "loh7H2nzphqN"
      }
    },
    {
      "cell_type": "markdown",
      "source": [
        "##### 2. What is/are the insight(s) found from the chart?"
      ],
      "metadata": {
        "id": "_ouA3fa0phqN"
      }
    },
    {
      "cell_type": "markdown",
      "source": [
        "   1.We already know by above observation Family category having more apps.So Family Apps having 4.6, 4.5, 4.3, 4.2.\n",
        "  2.Games category got 2 ratings 4.4 & 4.3 ratings\n",
        "3. Games category having highest rating apps intallation\n",
        "\n",
        "   **Higher rating, more consumer intrested to download Perticular apps**\n",
        "\n"
      ],
      "metadata": {
        "id": "VECbqPI7phqN"
      }
    },
    {
      "cell_type": "markdown",
      "source": [
        "##### 3. Will the gained insights help creating a positive business impact?\n",
        "Are there any insights that lead to negative growth? Justify with specific reason."
      ],
      "metadata": {
        "id": "Seke61FWphqN"
      }
    },
    {
      "cell_type": "markdown",
      "source": [
        "Yes,the gained insights help creating a positive business impact and\n",
        " there  are no insights that lead to negative growth which do not effect the business.\n",
        "\n"
      ],
      "metadata": {
        "id": "DW4_bGpfphqN"
      }
    },
    {
      "cell_type": "markdown",
      "source": [
        "#### Chart - 7"
      ],
      "metadata": {
        "id": "PIIx-8_IphqN"
      }
    },
    {
      "cell_type": "markdown",
      "source": [
        "Q7. App installation Rating & Installed app review"
      ],
      "metadata": {
        "id": "i3ygdtNRfkX9"
      }
    },
    {
      "cell_type": "code",
      "source": [
        "Total_review=df_1.groupby(['Category','App','Installs'])['Rating'].value_counts().sort_values(ascending=False).astype('int64').head(20)\n",
        "Total_review.T"
      ],
      "metadata": {
        "id": "lqAIGUfyphqO"
      },
      "execution_count": null,
      "outputs": []
    },
    {
      "cell_type": "code",
      "source": [
        "Total_review1=df_1.groupby(['Category','App','Installs'])['Reviews'].sum().sort_values(ascending=False).head(10)\n",
        "Total_review1.T"
      ],
      "metadata": {
        "id": "gdZfRdCff4sq"
      },
      "execution_count": null,
      "outputs": []
    },
    {
      "cell_type": "code",
      "source": [
        "# Co-relation btw install, review, Remark, price\n",
        "\n",
        "#convert Review column object to Integer.\n",
        "df_1['Reviews']=df_1['Reviews'].astype('int64')\n",
        "\n",
        "# now find Co-relation\n",
        "corr_rel=df_1[['Installs','Reviews','Rating','Price']].corr()\n",
        "corr_rel"
      ],
      "metadata": {
        "id": "XQeZ0tFZf4dw"
      },
      "execution_count": null,
      "outputs": []
    },
    {
      "cell_type": "markdown",
      "source": [
        "#### Chart - 8"
      ],
      "metadata": {
        "id": "BZR9WyysphqO"
      }
    },
    {
      "cell_type": "code",
      "source": [
        "# Chart - 8 visualization code\n",
        "# Visulization\n",
        "# CO-relation\n",
        "plt.figure(figsize=(5,5))\n",
        "sns.heatmap(corr_rel,annot=True, cmap='icefire')\n",
        "plt.title(\"Correlation of Data\",size='20')"
      ],
      "metadata": {
        "id": "TdPTWpAVphqO"
      },
      "execution_count": null,
      "outputs": []
    },
    {
      "cell_type": "markdown",
      "source": [
        "##### 1. Why did you pick the specific chart?"
      ],
      "metadata": {
        "id": "jj7wYXLtphqO"
      }
    },
    {
      "cell_type": "markdown",
      "source": [
        "To find the correlation of data"
      ],
      "metadata": {
        "id": "Ob8u6rCTphqO"
      }
    },
    {
      "cell_type": "markdown",
      "source": [
        "##### 2. What is/are the insight(s) found from the chart?"
      ],
      "metadata": {
        "id": "eZrbJ2SmphqO"
      }
    },
    {
      "cell_type": "markdown",
      "source": [
        "Observation\n",
        "\n",
        "factor which affect the Installation of Apps is Review of App, Ratings of Apps."
      ],
      "metadata": {
        "id": "mZtgC_hjphqO"
      }
    },
    {
      "cell_type": "markdown",
      "source": [
        "##### 3. Will the gained insights help creating a positive business impact?\n",
        "Are there any insights that lead to negative growth? Justify with specific reason."
      ],
      "metadata": {
        "id": "rFu4xreNphqO"
      }
    },
    {
      "cell_type": "markdown",
      "source": [
        "Yes,the gained insights help creating a positive business impact and there are no insights that lead to negative growth which do not effect the business."
      ],
      "metadata": {
        "id": "ey_0qi68phqO"
      }
    },
    {
      "cell_type": "markdown",
      "source": [
        "#### Chart - 9"
      ],
      "metadata": {
        "id": "YJ55k-q6phqO"
      }
    },
    {
      "cell_type": "markdown",
      "source": [
        "Q9. Which Apps are having positive rating and review"
      ],
      "metadata": {
        "id": "Ptz0zLxojWhS"
      }
    },
    {
      "cell_type": "code",
      "source": [
        "# Chart - 9 visualization code\n",
        "sntmt=df_2.groupby('App')['Sentiment_Polarity'].sum().reset_index().sort_values(by='Sentiment_Polarity',ascending=False)\n",
        "sntmt.head()"
      ],
      "metadata": {
        "id": "B2aS4O1ophqO"
      },
      "execution_count": null,
      "outputs": []
    },
    {
      "cell_type": "code",
      "source": [
        "sntmt2=df_2.groupby('App')['Sentiment'].count().sort_values(ascending=False).head()\n",
        "sntmt2=sntmt2.reset_index()\n",
        "sntmt2"
      ],
      "metadata": {
        "id": "1Q_kCevXj4pR"
      },
      "execution_count": null,
      "outputs": []
    },
    {
      "cell_type": "code",
      "source": [
        "fig = plt.figure(figsize=(10,4))\n",
        "plt.bar('App','Sentiment',data=sntmt2)\n",
        "plt.xticks(rotation = 60)\n",
        "plt.title(\"Top sentiment polarity Apps\")\n",
        "plt.show()"
      ],
      "metadata": {
        "id": "OEC1fD_bj9GM"
      },
      "execution_count": null,
      "outputs": []
    },
    {
      "cell_type": "markdown",
      "source": [
        "##### 1. Why did you pick the specific chart?"
      ],
      "metadata": {
        "id": "gCFgpxoyphqP"
      }
    },
    {
      "cell_type": "markdown",
      "source": [
        " To know that which Apps are having positive rating and review"
      ],
      "metadata": {
        "id": "TVxDimi2phqP"
      }
    },
    {
      "cell_type": "markdown",
      "source": [
        "##### 2. What is/are the insight(s) found from the chart?"
      ],
      "metadata": {
        "id": "OVtJsKN_phqQ"
      }
    },
    {
      "cell_type": "markdown",
      "source": [
        "Observation\n",
        "\n",
        "Facebook has less installation but more Sentiment polarity, its shows postve review given by Constumer"
      ],
      "metadata": {
        "id": "ngGi97qjphqQ"
      }
    },
    {
      "cell_type": "markdown",
      "source": [
        "##### 3. Will the gained insights help creating a positive business impact?\n",
        "Are there any insights that lead to negative growth? Justify with specific reason."
      ],
      "metadata": {
        "id": "lssrdh5qphqQ"
      }
    },
    {
      "cell_type": "markdown",
      "source": [
        "Whenever the polarity is less for many apps it leads to negative growth and may cause some impact on the business."
      ],
      "metadata": {
        "id": "tBpY5ekJphqQ"
      }
    },
    {
      "cell_type": "markdown",
      "source": [
        "#### Chart - 10"
      ],
      "metadata": {
        "id": "U2RJ9gkRphqQ"
      }
    },
    {
      "cell_type": "markdown",
      "source": [
        "Q10.Total number of app sentiment count"
      ],
      "metadata": {
        "id": "uhpcpvsSkNOL"
      }
    },
    {
      "cell_type": "code",
      "source": [
        "# Chart - 10 visualization code\n",
        "sentiment_count=df_2.groupby(['Sentiment'])['App'].count().sort_values(ascending=False)\n",
        "sentiment_count= sentiment_count.reset_index()\n",
        "sentiment_count"
      ],
      "metadata": {
        "id": "GM7a4YP4phqQ"
      },
      "execution_count": null,
      "outputs": []
    },
    {
      "cell_type": "markdown",
      "source": [
        "**Chart - 11**"
      ],
      "metadata": {
        "id": "FIO_94JMmNzJ"
      }
    },
    {
      "cell_type": "code",
      "source": [
        "fig = plt.figure(figsize=(5,4))\n",
        "sns.lineplot(x='Sentiment',y='App', data=sentiment_count, palette=\"Set2\")\n",
        "plt.title(\"Total app count sentiment wise\")\n",
        "plt.show()"
      ],
      "metadata": {
        "id": "l_u7ux3BkVOB"
      },
      "execution_count": null,
      "outputs": []
    },
    {
      "cell_type": "markdown",
      "source": [],
      "metadata": {
        "id": "3iwz6b2Bxzc8"
      }
    },
    {
      "cell_type": "markdown",
      "source": [
        "##### 1. Why did you pick the specific chart?"
      ],
      "metadata": {
        "id": "1M8mcRywphqQ"
      }
    },
    {
      "cell_type": "markdown",
      "source": [
        "To show total app count sentiment wise."
      ],
      "metadata": {
        "id": "8agQvks0phqQ"
      }
    },
    {
      "cell_type": "markdown",
      "source": [
        "##### 2. What is/are the insight(s) found from the chart?"
      ],
      "metadata": {
        "id": "tgIPom80phqQ"
      }
    },
    {
      "cell_type": "markdown",
      "source": [
        "Most of the apps are having positive sentiment which is benifit to the business."
      ],
      "metadata": {
        "id": "Qp13pnNzphqQ"
      }
    },
    {
      "cell_type": "markdown",
      "source": [
        "##### 3. Will the gained insights help creating a positive business impact?\n",
        "Are there any insights that lead to negative growth? Justify with specific reason."
      ],
      "metadata": {
        "id": "JMzcOPDDphqR"
      }
    },
    {
      "cell_type": "markdown",
      "source": [
        "Yes, the gained insights will help creating a positive business impact.\n",
        "If sentiment is negative it will lead to negative growth which means negative impact on the installation of apps from play store."
      ],
      "metadata": {
        "id": "R4Ka1PC2phqR"
      }
    },
    {
      "cell_type": "markdown",
      "source": [
        "#### Chart - 12"
      ],
      "metadata": {
        "id": "x-EpHcCOp1ci"
      }
    },
    {
      "cell_type": "markdown",
      "source": [
        "q11.Relation of sentiment Polarity & SENTIMENT subjectivity"
      ],
      "metadata": {
        "id": "gTnVL_Cukgl6"
      }
    },
    {
      "cell_type": "code",
      "source": [
        "# Chart - 11 visualization code\n",
        "# Visulization\n",
        "plt.figure(figsize=(10, 5))\n",
        "\n",
        "#df_2.plot(kind='scatter', x='Sentiment_Polarity', y='Sentiment_Subjectivity',c=colors)\n",
        "sns.scatterplot(x=\"Sentiment_Polarity\", y=\"Sentiment_Subjectivity\", data=df_2, hue=\"Sentiment\")\n",
        "plt.title(\"Relation of sentiment Polarity & SENTIMENT subjectivity\", fontsize=20)\n",
        "plt.show()"
      ],
      "metadata": {
        "id": "mAQTIvtqp1cj"
      },
      "execution_count": null,
      "outputs": []
    },
    {
      "cell_type": "markdown",
      "source": [
        "##### 1. Why did you pick the specific chart?"
      ],
      "metadata": {
        "id": "X_VqEhTip1ck"
      }
    },
    {
      "cell_type": "markdown",
      "source": [
        "To show the relation of sentiment Polarity & SENTIMENT subjectivity"
      ],
      "metadata": {
        "id": "-vsMzt_np1ck"
      }
    },
    {
      "cell_type": "markdown",
      "source": [
        "##### 2. What is/are the insight(s) found from the chart?"
      ],
      "metadata": {
        "id": "8zGJKyg5p1ck"
      }
    },
    {
      "cell_type": "markdown",
      "source": [
        "Positive sentiment area is more compared to negative sentiment which means there is good impact on the business."
      ],
      "metadata": {
        "id": "ZYdMsrqVp1ck"
      }
    },
    {
      "cell_type": "markdown",
      "source": [
        "##### 3. Will the gained insights help creating a positive business impact?\n",
        "Are there any insights that lead to negative growth? Justify with specific reason."
      ],
      "metadata": {
        "id": "PVzmfK_Ep1ck"
      }
    },
    {
      "cell_type": "markdown",
      "source": [
        "Yes,the gained insights will help creating a positive business impact.\n",
        "Whenever the sentiment polarity is negative hat lead to negative growth."
      ],
      "metadata": {
        "id": "druuKYZpp1ck"
      }
    },
    {
      "cell_type": "markdown",
      "source": [
        "#### Chart - 13"
      ],
      "metadata": {
        "id": "n3dbpmDWp1ck"
      }
    },
    {
      "cell_type": "markdown",
      "source": [
        "Q12. Where are the most rated values distributed?"
      ],
      "metadata": {
        "id": "Evph7F-nk-XV"
      }
    },
    {
      "cell_type": "code",
      "source": [
        "df_2.head()"
      ],
      "metadata": {
        "id": "bwevp1tKp1ck"
      },
      "execution_count": null,
      "outputs": []
    },
    {
      "cell_type": "markdown",
      "source": [
        "Histogram with the kde for the rating column for dataset1"
      ],
      "metadata": {
        "id": "5h3RaNk7k7C2"
      }
    },
    {
      "cell_type": "code",
      "source": [
        "sns.histplot(df_1[\"Rating\"], kde = True)\n",
        "plt.title(\"Histogram with the kde for the rating column \", size=20,)"
      ],
      "metadata": {
        "id": "UK5IM5Uhk3EK"
      },
      "execution_count": null,
      "outputs": []
    },
    {
      "cell_type": "markdown",
      "source": [
        "##### 1. Why did you pick the specific chart?"
      ],
      "metadata": {
        "id": "ylSl6qgtp1ck"
      }
    },
    {
      "cell_type": "markdown",
      "source": [
        "To plot the histogram with the kde for rating column"
      ],
      "metadata": {
        "id": "m2xqNkiQp1ck"
      }
    },
    {
      "cell_type": "markdown",
      "source": [
        "##### 2. What is/are the insight(s) found from the chart?"
      ],
      "metadata": {
        "id": "ZWILFDl5p1ck"
      }
    },
    {
      "cell_type": "markdown",
      "source": [
        "Many of the apps are having the rating in between 4.0 and 4.5 which is a good sign to the business."
      ],
      "metadata": {
        "id": "x-lUsV2mp1ck"
      }
    },
    {
      "cell_type": "markdown",
      "source": [
        "##### 3. Will the gained insights help creating a positive business impact?\n",
        "Are there any insights that lead to negative growth? Justify with specific reason."
      ],
      "metadata": {
        "id": "M7G43BXep1ck"
      }
    },
    {
      "cell_type": "markdown",
      "source": [
        "The gained insights will help in creating a positive business impact based on the good rating values.\n",
        "\n",
        "If  many apps having less rating then that will negatively effect the business."
      ],
      "metadata": {
        "id": "5wwDJXsLp1cl"
      }
    },
    {
      "cell_type": "markdown",
      "source": [
        "## **5. Solution to Business Objective**"
      ],
      "metadata": {
        "id": "JcMwzZxoAimU"
      }
    },
    {
      "cell_type": "markdown",
      "source": [
        "#### What do you suggest the client to achieve Business Objective ?\n"
      ],
      "metadata": {
        "id": "8G2x9gOozGDZ"
      }
    },
    {
      "cell_type": "markdown",
      "source": [
        "Below are the observations from this project:\n",
        "Total number of apps are 10346\n",
        "\n",
        "Free app count :-9584, Paid app Count:-762\n",
        "\n",
        "Out of Total apps in google play according to dataset 92.6% Apss are free &7.4% Apps are Paid\n",
        "\n",
        "Total number of Installation in Free apps is more compare to Paid Apps In bar graph it is not visible because number of Paid app is less.\n",
        "\n",
        "Content Rating for everyone apps count is more. Everyone 10+ apps is less compare to mature17+ but installation wise everyone10+ apps install more than mature 17+ content rating.\n",
        "\n",
        "Number of apps more in Family Category & game is second highest.\n",
        "\n",
        "2)Game installation app is 1st and Communication apps installation is second, Family apps installation is 6th.\n",
        "\n",
        "Top 10 Installation 3 games apps. Subway Surfer, Candycrush Saga, Temple Run\n",
        "\n",
        "In Top 10 Installation Category apps 2 Gaming Apps\n",
        "\n",
        "Games apps intallation is highest in Play store.\n",
        "\n",
        "Highest App rating is 5 and lowest in top 20 is 3.0\n",
        "\n",
        "Major apps got 4.3 Rating\n",
        "\n",
        "Games category got 2 ratings 4.4 & 4.3 ratings\n",
        "\n",
        "Games category having highest rating apps intallation\n",
        "\n",
        "Higher rating, more consumer intrested to download Perticular apps.\n",
        "\n",
        "Facebook has less installation but more Sentiment polarity, its shows postve review given by Constumer.\n",
        "\n",
        "The most values are distributed around 4.3 and many more observations through this project analysis."
      ],
      "metadata": {
        "id": "pASKb0qOza21"
      }
    },
    {
      "cell_type": "markdown",
      "source": [
        "Based on these observations through data visualizaion the client can take his own decisions.\n",
        "Clients can quickly identify outliers, correlations, and anomalies, helping them make informed choices promptly.\n",
        "\n",
        "Visualizations can be used to provide visual feedback to employees, which can be particularly useful in performance reviews and goal tracking\n",
        "\n",
        "These visualizations can quickly highlight areas of concern or underperformance, allowing clients to address issues before they escalate.This leads to more personalized marketing strategies and improved customer experiences.\n"
      ],
      "metadata": {
        "id": "7DVFEHe4pxap"
      }
    },
    {
      "cell_type": "markdown",
      "source": [
        "# **Conclusion**"
      ],
      "metadata": {
        "id": "gCX9965dhzqZ"
      }
    },
    {
      "cell_type": "markdown",
      "source": [
        "This Play Store app analysis project provided valuable insights into the dynamics of the mobile app ecosystem. The findings can be used by developers, marketers, and app publishers to make data-driven decisions to improve app performance, user engagement, and overall success.Most of the apps are free so developers should focus on creating free apps to have a huge customer base. If developing paid apps then apps size should not be greater than 40mb.\n",
        "\n",
        "By conducting a simple exploratory data analysis (EDA) on the play store dataset, we not only eliminate avoidable risks of failure, but we may also be able to provide better ideas for building the app.Prior to analysis, the dataset underwent rigorous cleansing and preprocessing, encompassing the mitigation of missing values, the eradication of duplicates, and the preservation of data uniformity. Outliers were also tamed to uphold data sanctity. Data visualization is a powerful tool that empowers business clients to leverage their data for strategic decision-making, competitive advantage, and improved overall performance. It allows them to see the big picture, identify opportunities and challenges, and communicate their findings effectively within their organizations and to external stakeholders.\n",
        "\n",
        "In conclusion, this project has illuminated the pathways to app success within the Google Play Store, emphasizing the potency of data-driven analysis in the vibrant arena of mobile applications."
      ],
      "metadata": {
        "id": "Fjb1IsQkh3yE"
      }
    },
    {
      "cell_type": "markdown",
      "source": [
        "### ***Hurrah! You have successfully completed your EDA Capstone Project !!!***"
      ],
      "metadata": {
        "id": "gIfDvo9L0UH2"
      }
    }
  ]
}